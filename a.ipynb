{
 "cells": [
  {
   "cell_type": "code",
   "execution_count": 2,
   "metadata": {},
   "outputs": [
    {
     "name": "stdout",
     "output_type": "stream",
     "text": [
      "      SuraID  AyaNo                                       Arabic Text  \\\n",
      "0          1      1            بِسۡمِ اللّٰہِ الرَّحۡمٰنِ الرَّحِیۡمِ   \n",
      "1          1      2      اَلۡحَمۡدُ لِلّٰہِ رَبِّ الۡعٰلَمِیۡنَ ۙ﴿۱﴾    \n",
      "2          1      3                      الرَّحۡمٰنِ الرَّحِیۡمِ ۙ﴿۲﴾   \n",
      "3          1      4                      مٰلِکِ یَوۡمِ الدِّیۡنِ ؕ﴿۳﴾   \n",
      "4          1      5   اِیَّاکَ نَعۡبُدُ وَ اِیَّاکَ نَسۡتَعِیۡنُ ؕ﴿۴﴾   \n",
      "...      ...    ...                                               ...   \n",
      "6231     114      2                             مَلِکِ النَّاسِ ۙ﴿۲﴾    \n",
      "6232     114      3                            اِلٰہِ  النَّاسِ ۙ﴿۳﴾    \n",
      "6233     114      4   مِنۡ  شَرِّ الۡوَسۡوَاسِ ۬ۙ  الۡخَنَّاسِ ۪ۙ﴿۴﴾    \n",
      "6234     114      5  الَّذِیۡ یُوَسۡوِسُ فِیۡ صُدُوۡرِ النَّاسِ ۙ﴿۵﴾    \n",
      "6235     114      6                 مِنَ الۡجِنَّۃِ وَ النَّاسِ ٪﴿۶﴾    \n",
      "\n",
      "                               Fateh Muhammad Jalandhri  \\\n",
      "0     شروع اللہ کا نام لے کر جو بڑا مہربان نہایت رحم...   \n",
      "1     سب طرح کی تعریف اللہ ہی  کیلئے ہے جو تمام مخلو...   \n",
      "2                            بڑا مہربان نہایت رحم والا۔   \n",
      "3                                  انصاف کے دن کا حاکم۔   \n",
      "4     اے پروردگار ہم تیری ہی عبادت کرتے ہیں اور تجھی...   \n",
      "...                                                 ...   \n",
      "6231                           یعنی لوگوں کے بادشاہ کی۔   \n",
      "6232                                 لوگوں کے معبود کی۔   \n",
      "6233  اس بڑے وسوسہ ڈالنے والے کی برائی سے جو اللہ کا...   \n",
      "6234               جو لوگوں کے دلوں میں وسوسے ڈالتا ہے۔   \n",
      "6235          خواہ وہ جنات میں سے ہو یا انسانوں میں سے۔   \n",
      "\n",
      "                                      Mehmood ul Hassan  \\\n",
      "0     شروع اللہ کے نام سے جو بڑا مہربان نہایت رحم وا...   \n",
      "1     سب تعریفیں اللہ کے لئے ہیں [۲] جو پالنے والا س...   \n",
      "2                            بےحد مہربان نہایت رحم والا   \n",
      "3                                   مالک روز جزا کا [۴]   \n",
      "4     تیری ہی ہم بندگی کرتے ہیں اور تجھی سے مدد چاہت...   \n",
      "...                                                 ...   \n",
      "6231                                 لوگوں کے بادشاہ کی   \n",
      "6232                              لوگوں کے معبود کی [۱]   \n",
      "6233           بدی سے اُسکی جو پھسلائے اور چھپ جائے [۲]   \n",
      "6234                وہ جو خیال ڈالتا ہے لوگوں کے دل میں   \n",
      "6235                        جنوں میں اور آدمیوں میں [۳]   \n",
      "\n",
      "                   SurahNameE SurahNameU  \n",
      "0     Al-Fatiha (The Opening)    الفاتحۃ  \n",
      "1     Al-Fatiha (The Opening)    الفاتحۃ  \n",
      "2     Al-Fatiha (The Opening)    الفاتحۃ  \n",
      "3     Al-Fatiha (The Opening)    الفاتحۃ  \n",
      "4     Al-Fatiha (The Opening)    الفاتحۃ  \n",
      "...                       ...        ...  \n",
      "6231     An-Nas (The mankind)    النَّاس  \n",
      "6232     An-Nas (The mankind)    النَّاس  \n",
      "6233     An-Nas (The mankind)    النَّاس  \n",
      "6234     An-Nas (The mankind)    النَّاس  \n",
      "6235     An-Nas (The mankind)    النَّاس  \n",
      "\n",
      "[6236 rows x 7 columns]\n"
     ]
    }
   ],
   "source": [
    "import pandas as pd\n",
    "\n",
    "    \n",
    "file_path = \"UrduTranslationsFatehMuhammadAndShaikhulHind.xlsx\"\n",
    "df = pd.read_excel(file_path)\n",
    "\n",
    "\n",
    "\n",
    "print(df)"
   ]
  },
  {
   "cell_type": "code",
   "execution_count": 3,
   "metadata": {},
   "outputs": [
    {
     "name": "stdout",
     "output_type": "stream",
     "text": [
      "<class 'pandas.core.frame.DataFrame'>\n",
      "RangeIndex: 6236 entries, 0 to 6235\n",
      "Data columns (total 7 columns):\n",
      " #   Column                    Non-Null Count  Dtype \n",
      "---  ------                    --------------  ----- \n",
      " 0   SuraID                    6236 non-null   int64 \n",
      " 1   AyaNo                     6236 non-null   int64 \n",
      " 2   Arabic Text               6236 non-null   object\n",
      " 3   Fateh Muhammad Jalandhri  6236 non-null   object\n",
      " 4   Mehmood ul Hassan         6236 non-null   object\n",
      " 5   SurahNameE                6236 non-null   object\n",
      " 6   SurahNameU                6236 non-null   object\n",
      "dtypes: int64(2), object(5)\n",
      "memory usage: 341.2+ KB\n"
     ]
    }
   ],
   "source": [
    "df.info()"
   ]
  },
  {
   "cell_type": "code",
   "execution_count": 4,
   "metadata": {},
   "outputs": [
    {
     "data": {
      "text/plain": [
       "0        الفاتحۃ\n",
       "1        الفاتحۃ\n",
       "2        الفاتحۃ\n",
       "3        الفاتحۃ\n",
       "4        الفاتحۃ\n",
       "          ...   \n",
       "6231     النَّاس\n",
       "6232     النَّاس\n",
       "6233     النَّاس\n",
       "6234     النَّاس\n",
       "6235     النَّاس\n",
       "Name: SurahNameU, Length: 6236, dtype: object"
      ]
     },
     "execution_count": 4,
     "metadata": {},
     "output_type": "execute_result"
    }
   ],
   "source": [
    "df['SurahNameU']"
   ]
  },
  {
   "cell_type": "code",
   "execution_count": 8,
   "metadata": {},
   "outputs": [
    {
     "name": "stdout",
     "output_type": "stream",
     "text": [
      "Surah Name: البقرۃ\n"
     ]
    }
   ],
   "source": [
    "def load_surahs():\n",
    "    \n",
    "    file_path = \"UrduTranslationsFatehMuhammadAndShaikhulHind.xlsx\"\n",
    "    df = pd.read_excel(file_path)\n",
    "    return df\n",
    "\n",
    "quran_data = load_surahs()\n",
    "sura_id = 2\n",
    "# condition = quran_data[\"SuraID\"] == sura_id\n",
    "# print(f\"Condition: {condition}\")\n",
    "# filtered_data = quran_data[condition]\n",
    "# print(f\"Filtered Data: {filtered_data}\")\n",
    "surah = quran_data[quran_data[\"SuraID\"] == sura_id]\n",
    "print(f\"Surah Name: {surah.iloc[0][\"SurahNameU\"]}\")\n"
   ]
  },
  {
   "cell_type": "code",
   "execution_count": null,
   "metadata": {},
   "outputs": [],
   "source": []
  }
 ],
 "metadata": {
  "kernelspec": {
   "display_name": "Python 3",
   "language": "python",
   "name": "python3"
  },
  "language_info": {
   "codemirror_mode": {
    "name": "ipython",
    "version": 3
   },
   "file_extension": ".py",
   "mimetype": "text/x-python",
   "name": "python",
   "nbconvert_exporter": "python",
   "pygments_lexer": "ipython3",
   "version": "3.12.3"
  }
 },
 "nbformat": 4,
 "nbformat_minor": 2
}
